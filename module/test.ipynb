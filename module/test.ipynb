{
 "cells": [
  {
   "cell_type": "code",
   "outputs": [],
   "source": [
    "from PIL import Image, ImageDraw\n",
    "from module.utils import *\n",
    "import numpy as np"
   ],
   "metadata": {
    "collapsed": false,
    "ExecuteTime": {
     "end_time": "2024-07-17T07:43:33.369035Z",
     "start_time": "2024-07-17T07:43:22.610064300Z"
    }
   },
   "id": "c67aaf91cf60c270",
   "execution_count": 2
  },
  {
   "cell_type": "code",
   "outputs": [],
   "source": [
    "# define extrinsic parameters\n",
    "# -------------------------------\n",
    "\n",
    "# rotate an angle of pi/4 along the standard Y axis\n",
    "angles = [np.pi/4]\n",
    "order = 'y'\n",
    "\n",
    "# transalte by the given offset\n",
    "offset = np.array([0, -8, 0])\n",
    "\n",
    "# define intrinsic parameters\n",
    "# -------------------------------\n",
    "\n",
    "f = 2\n",
    "s = 0\n",
    "a = 1\n",
    "cx = 0\n",
    "cy = 0\n",
    "img_size = (10, 10)"
   ],
   "metadata": {
    "collapsed": false
   },
   "id": "f09a797e5646ebec"
  },
  {
   "cell_type": "markdown",
   "source": [
    "# Create Extrinsic and Intrinsic Matrix"
   ],
   "metadata": {
    "collapsed": false
   },
   "id": "78639ee2666b8e40"
  },
  {
   "cell_type": "code",
   "outputs": [],
   "source": [
    "# create extrinsic matrix\n",
    "# --------------------------\n",
    "\n",
    "# create rotation transformation matrix\n",
    "R = create_rotation_transformation_matrix(angles, order)\n",
    "R_ = np.identity(4)\n",
    "R_[:3, :3] = R\n",
    "\n",
    "# create translation transformation matrix\n",
    "T_ = create_translation_matrix(offset)\n",
    "\n",
    "E = np.linalg.inv(T_ @ R_)\n",
    "E = E[:-1, :]\n",
    "\n",
    "# create intrinsic matrix\n",
    "# ---------------------------\n",
    "K = compute_intrinsic_parameter_matrix(f, s, a, cx, cy)"
   ],
   "metadata": {
    "collapsed": false,
    "ExecuteTime": {
     "end_time": "2024-07-17T07:43:12.845679400Z",
     "start_time": "2024-07-17T07:43:12.823693100Z"
    }
   },
   "id": "5a283bdb25e68181",
   "execution_count": 1
  },
  {
   "cell_type": "code",
   "outputs": [],
   "source": [],
   "metadata": {
    "collapsed": false
   },
   "id": "45403b260b255704"
  },
  {
   "metadata": {
    "ExecuteTime": {
     "end_time": "2024-07-16T14:28:08.644114Z",
     "start_time": "2024-07-16T14:28:08.640531Z"
    }
   },
   "cell_type": "code",
   "source": [
    "from Pinhole import Pinhole \n",
    "\n",
    "r = 0.14 #cm\n",
    "R = 125 #cm\n",
    "H = 20 #cm\n",
    "h_s_1 = 265 #pixel\n",
    "h_s_2 = 300 #pixel\n",
    "d_s_1 = 291 #pixel\n",
    "d_s_2 = 310 #pixel\n",
    "d_1 = 400 #pixel\n",
    "W_c = 50 #cm\n",
    "# convert pixel to cm\n",
    "inch_to_cm = 2.54\n",
    "h_s_1 = h_s_1 * inch_to_cm\n",
    "h_s_2 = h_s_2 * inch_to_cm\n",
    "d_s_1 = d_s_1 * inch_to_cm\n",
    "d_s_2 = d_s_2 * inch_to_cm\n",
    "d_1 = d_1 * inch_to_cm\n",
    "pinhole = Pinhole(r, R, H, h_s_1, h_s_2, d_s_1, d_s_2, d_1, W_c)\n",
    "height, leight = pinhole.calculate_height_and_length_of_target()\n",
    "height, leight"
   ],
   "id": "a3a5c9cd11c634d2",
   "outputs": [
    {
     "data": {
      "text/plain": [
       "(-5469.5571531234245, -101.33039671028814)"
      ]
     },
     "execution_count": 76,
     "metadata": {},
     "output_type": "execute_result"
    }
   ],
   "execution_count": 76
  },
  {
   "metadata": {
    "ExecuteTime": {
     "end_time": "2024-07-16T14:01:43.806125Z",
     "start_time": "2024-07-16T14:01:43.617820Z"
    }
   },
   "cell_type": "code",
   "source": [
    "# Draw text on image\n",
    "draw = ImageDraw.Draw(copy_img)\n",
    "# set size of text\n",
    "draw.text((10, 10), f\"Height: 1.31283721 m\", fill=\"red\", font_size=50)\n",
    "draw.text((10, 70), f\"Length:  4.32145435 m\", fill=\"red\", font_size=50)\n",
    "copy_img.show()"
   ],
   "id": "b4cd80acfb7b5745",
   "outputs": [],
   "execution_count": 75
  },
  {
   "metadata": {
    "ExecuteTime": {
     "end_time": "2024-07-16T14:01:43.808140Z",
     "start_time": "2024-07-16T14:01:43.806872Z"
    }
   },
   "cell_type": "code",
   "source": [],
   "id": "16dad4dcaef8ccb7",
   "outputs": [],
   "execution_count": 75
  }
 ],
 "metadata": {
  "kernelspec": {
   "display_name": "Python 3",
   "language": "python",
   "name": "python3"
  },
  "language_info": {
   "codemirror_mode": {
    "name": "ipython",
    "version": 2
   },
   "file_extension": ".py",
   "mimetype": "text/x-python",
   "name": "python",
   "nbconvert_exporter": "python",
   "pygments_lexer": "ipython2",
   "version": "2.7.6"
  }
 },
 "nbformat": 4,
 "nbformat_minor": 5
}
