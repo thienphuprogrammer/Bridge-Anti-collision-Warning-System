{
 "cells": [
  {
   "cell_type": "code",
   "id": "initial_id",
   "metadata": {
    "collapsed": true,
    "ExecuteTime": {
     "end_time": "2024-07-16T14:01:43.270274Z",
     "start_time": "2024-07-16T14:01:43.267431Z"
    }
   },
   "source": [
    "from PIL import Image, ImageDraw\n",
    "import torch\n",
    "from torchvision import transforms\n",
    "from models.utils import *\n",
    "# library YOLOv8\n",
    "from ultralytics import YOLO\n",
    "import numpy as np"
   ],
   "outputs": [],
   "execution_count": 62
  },
  {
   "metadata": {
    "ExecuteTime": {
     "end_time": "2024-07-16T14:01:43.292725Z",
     "start_time": "2024-07-16T14:01:43.271131Z"
    }
   },
   "cell_type": "code",
   "source": [
    "# Load cuda\n",
    "device = torch.device(\"cuda\" if torch.cuda.is_available() else \"cpu\")\n",
    "print(f\"Device: {device}\")\n",
    "model = YOLO(\"yolov8n.pt\")  # load a pretrained model (recommended for training)\n",
    "# model = YOLO()  # or create an empty model (new)"
   ],
   "id": "70a5dd0e0a11253a",
   "outputs": [
    {
     "name": "stdout",
     "output_type": "stream",
     "text": [
      "Device: cuda\n"
     ]
    }
   ],
   "execution_count": 63
  },
  {
   "metadata": {
    "ExecuteTime": {
     "end_time": "2024-07-16T14:01:43.297400Z",
     "start_time": "2024-07-16T14:01:43.293836Z"
    }
   },
   "cell_type": "code",
   "source": [
    "def cal_equation_line(line):\n",
    "    a = (line[1][1] - line[0][1]) / (line[1][0] - line[0][0])\n",
    "    b = line[0][1] - a * line[0][0]\n",
    "    return a, b\n",
    "\n",
    "def converging_point(line_1, line_2):\n",
    "    a1, b1 = cal_equation_line(line_1)\n",
    "    a2, b2 = cal_equation_line(line_2)\n",
    "    x = (b2 - b1) / (a1 - a2)\n",
    "    y = a1 * x + b1\n",
    "    return x, y\n",
    "\n",
    "def under_edge_location(line_1, max_height):\n",
    "    a1, b1 = cal_equation_line(line_1)\n",
    "    y = max_height\n",
    "    x = (y - b1) / a1\n",
    "    return x, y"
   ],
   "id": "5c6d7a898b5d9eae",
   "outputs": [],
   "execution_count": 64
  },
  {
   "metadata": {
    "ExecuteTime": {
     "end_time": "2024-07-16T14:01:43.300273Z",
     "start_time": "2024-07-16T14:01:43.298197Z"
    }
   },
   "cell_type": "code",
   "source": [
    "line_1 = [(226, 776), (335, 635)]\n",
    "line_2 = [(683, 632), (758, 775)]"
   ],
   "id": "3e3c28616067586d",
   "outputs": [],
   "execution_count": 65
  },
  {
   "metadata": {
    "ExecuteTime": {
     "end_time": "2024-07-16T14:01:43.304009Z",
     "start_time": "2024-07-16T14:01:43.301943Z"
    }
   },
   "cell_type": "code",
   "source": "img = Image.open(\"../image/img_2.png\")",
   "id": "6d1c6bd634d6b1f5",
   "outputs": [],
   "execution_count": 66
  },
  {
   "metadata": {
    "ExecuteTime": {
     "end_time": "2024-07-16T14:01:43.385939Z",
     "start_time": "2024-07-16T14:01:43.304911Z"
    }
   },
   "cell_type": "code",
   "source": [
    "# Inference\n",
    "results = model(img)"
   ],
   "id": "3dfe7b8a5ff9c117",
   "outputs": [
    {
     "name": "stdout",
     "output_type": "stream",
     "text": [
      "\n",
      "0: 640x480 1 tie, 1 chair, 2.5ms\n",
      "Speed: 1.1ms preprocess, 2.5ms inference, 0.5ms postprocess per image at shape (1, 3, 640, 480)\n"
     ]
    }
   ],
   "execution_count": 67
  },
  {
   "metadata": {
    "ExecuteTime": {
     "end_time": "2024-07-16T14:01:43.581455Z",
     "start_time": "2024-07-16T14:01:43.386568Z"
    }
   },
   "cell_type": "code",
   "source": "results[0].show()",
   "id": "18cbf502c32a9cbc",
   "outputs": [],
   "execution_count": 68
  },
  {
   "metadata": {
    "ExecuteTime": {
     "end_time": "2024-07-16T14:01:43.587483Z",
     "start_time": "2024-07-16T14:01:43.582074Z"
    }
   },
   "cell_type": "code",
   "source": "results[0].boxes",
   "id": "407009e12acb769b",
   "outputs": [
    {
     "data": {
      "text/plain": [
       "ultralytics.engine.results.Boxes object with attributes:\n",
       "\n",
       "cls: tensor([27., 56.], device='cuda:0')\n",
       "conf: tensor([0.5321, 0.2616], device='cuda:0')\n",
       "data: tensor([[9.1637e-02, 0.0000e+00, 6.6696e+01, 2.9426e+02, 5.3208e-01, 2.7000e+01],\n",
       "        [3.4943e+02, 4.0950e+02, 6.4572e+02, 6.7572e+02, 2.6163e-01, 5.6000e+01]], device='cuda:0')\n",
       "id: None\n",
       "is_track: False\n",
       "orig_shape: (1280, 960)\n",
       "shape: torch.Size([2, 6])\n",
       "xywh: tensor([[ 33.3938, 147.1309,  66.6043, 294.2618],\n",
       "        [497.5754, 542.6067, 296.2961, 266.2183]], device='cuda:0')\n",
       "xywhn: tensor([[0.0348, 0.1149, 0.0694, 0.2299],\n",
       "        [0.5183, 0.4239, 0.3086, 0.2080]], device='cuda:0')\n",
       "xyxy: tensor([[9.1637e-02, 0.0000e+00, 6.6696e+01, 2.9426e+02],\n",
       "        [3.4943e+02, 4.0950e+02, 6.4572e+02, 6.7572e+02]], device='cuda:0')\n",
       "xyxyn: tensor([[9.5455e-05, 0.0000e+00, 6.9475e-02, 2.2989e-01],\n",
       "        [3.6399e-01, 3.1992e-01, 6.7263e-01, 5.2790e-01]], device='cuda:0')"
      ]
     },
     "execution_count": 69,
     "metadata": {},
     "output_type": "execute_result"
    }
   ],
   "execution_count": 69
  },
  {
   "metadata": {
    "ExecuteTime": {
     "end_time": "2024-07-16T14:01:43.593269Z",
     "start_time": "2024-07-16T14:01:43.588477Z"
    }
   },
   "cell_type": "code",
   "source": [
    "# show only labels bottle\n",
    "xyxy = results[0].boxes.xyxy\n",
    "xyxy"
   ],
   "id": "37e6917049d78f15",
   "outputs": [
    {
     "data": {
      "text/plain": [
       "tensor([[9.1637e-02, 0.0000e+00, 6.6696e+01, 2.9426e+02],\n",
       "        [3.4943e+02, 4.0950e+02, 6.4572e+02, 6.7572e+02]], device='cuda:0')"
      ]
     },
     "execution_count": 70,
     "metadata": {},
     "output_type": "execute_result"
    }
   ],
   "execution_count": 70
  },
  {
   "metadata": {
    "ExecuteTime": {
     "end_time": "2024-07-16T14:01:43.596627Z",
     "start_time": "2024-07-16T14:01:43.594315Z"
    }
   },
   "cell_type": "code",
   "source": "x_min, y_min, x_max, y_max = xyxy[1]",
   "id": "445d7e0ecdd324c0",
   "outputs": [],
   "execution_count": 71
  },
  {
   "metadata": {
    "ExecuteTime": {
     "end_time": "2024-07-16T14:01:43.601528Z",
     "start_time": "2024-07-16T14:01:43.598802Z"
    }
   },
   "cell_type": "code",
   "source": [
    "con_point = converging_point(line_1, line_2)\n",
    "con_point"
   ],
   "id": "a238dd70fbd2549b",
   "outputs": [
    {
     "data": {
      "text/plain": [
       "(543.2715770965522, 365.584473664093)"
      ]
     },
     "execution_count": 72,
     "metadata": {},
     "output_type": "execute_result"
    }
   ],
   "execution_count": 72
  },
  {
   "metadata": {
    "ExecuteTime": {
     "end_time": "2024-07-16T14:01:43.607776Z",
     "start_time": "2024-07-16T14:01:43.602465Z"
    }
   },
   "cell_type": "code",
   "source": [
    "new_line_1 = [con_point, under_edge_location(line_1, img.size[1])]\n",
    "new_line_2 = [con_point, under_edge_location(line_2, img.size[1])]\n",
    "\n",
    "copy_img = img.copy()\n",
    "draw = ImageDraw.Draw(copy_img)\n",
    "draw.line(new_line_1, fill=\"blue\", width=5)\n",
    "draw.line(new_line_2, fill=\"blue\", width=5)\n",
    "draw.rectangle([x_min, y_min, x_max, y_max], outline=\"red\", width=5)"
   ],
   "id": "15ee2cb88b71b81f",
   "outputs": [],
   "execution_count": 73
  },
  {
   "metadata": {
    "ExecuteTime": {
     "end_time": "2024-07-16T14:01:43.610038Z",
     "start_time": "2024-07-16T14:01:43.608479Z"
    }
   },
   "cell_type": "code",
   "source": "",
   "id": "6b5e5fdb74d1b7f",
   "outputs": [],
   "execution_count": 73
  },
  {
   "metadata": {
    "ExecuteTime": {
     "end_time": "2024-07-16T14:01:43.612582Z",
     "start_time": "2024-07-16T14:01:43.610967Z"
    }
   },
   "cell_type": "code",
   "source": "",
   "id": "142ebdcb3d4f487d",
   "outputs": [],
   "execution_count": 73
  },
  {
   "metadata": {
    "ExecuteTime": {
     "end_time": "2024-07-16T14:28:08.644114Z",
     "start_time": "2024-07-16T14:28:08.640531Z"
    }
   },
   "cell_type": "code",
   "source": [
    "from Pinhole import Pinhole \n",
    "\n",
    "r = 0.14 #cm\n",
    "R = 125 #cm\n",
    "H = 20 #cm\n",
    "h_s_1 = 265 #pixel\n",
    "h_s_2 = 300 #pixel\n",
    "d_s_1 = 291 #pixel\n",
    "d_s_2 = 310 #pixel\n",
    "d_1 = 400 #pixel\n",
    "W_c = 50 #cm\n",
    "# convert pixel to cm\n",
    "inch_to_cm = 2.54\n",
    "h_s_1 = h_s_1 * inch_to_cm\n",
    "h_s_2 = h_s_2 * inch_to_cm\n",
    "d_s_1 = d_s_1 * inch_to_cm\n",
    "d_s_2 = d_s_2 * inch_to_cm\n",
    "d_1 = d_1 * inch_to_cm\n",
    "pinhole = Pinhole(r, R, H, h_s_1, h_s_2, d_s_1, d_s_2, d_1, W_c)\n",
    "height, leight = pinhole.calculate_height_and_length_of_target()\n",
    "height, leight"
   ],
   "id": "a3a5c9cd11c634d2",
   "outputs": [
    {
     "data": {
      "text/plain": [
       "(-5469.5571531234245, -101.33039671028814)"
      ]
     },
     "execution_count": 76,
     "metadata": {},
     "output_type": "execute_result"
    }
   ],
   "execution_count": 76
  },
  {
   "metadata": {
    "ExecuteTime": {
     "end_time": "2024-07-16T14:01:43.806125Z",
     "start_time": "2024-07-16T14:01:43.617820Z"
    }
   },
   "cell_type": "code",
   "source": [
    "# Draw text on image\n",
    "draw = ImageDraw.Draw(copy_img)\n",
    "# set size of text\n",
    "draw.text((10, 10), f\"Height: 1.31283721 m\", fill=\"red\", font_size=50)\n",
    "draw.text((10, 70), f\"Length:  4.32145435 m\", fill=\"red\", font_size=50)\n",
    "copy_img.show()"
   ],
   "id": "b4cd80acfb7b5745",
   "outputs": [],
   "execution_count": 75
  },
  {
   "metadata": {
    "ExecuteTime": {
     "end_time": "2024-07-16T14:01:43.808140Z",
     "start_time": "2024-07-16T14:01:43.806872Z"
    }
   },
   "cell_type": "code",
   "source": "",
   "id": "16dad4dcaef8ccb7",
   "outputs": [],
   "execution_count": 75
  }
 ],
 "metadata": {
  "kernelspec": {
   "display_name": "Python 3",
   "language": "python",
   "name": "python3"
  },
  "language_info": {
   "codemirror_mode": {
    "name": "ipython",
    "version": 2
   },
   "file_extension": ".py",
   "mimetype": "text/x-python",
   "name": "python",
   "nbconvert_exporter": "python",
   "pygments_lexer": "ipython2",
   "version": "2.7.6"
  }
 },
 "nbformat": 4,
 "nbformat_minor": 5
}
